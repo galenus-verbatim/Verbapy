{
 "cells": [
  {
   "cell_type": "markdown",
   "id": "199ebe97",
   "metadata": {},
   "source": [
    "# Exemple notebook on how to use the Verbapie tool:"
   ]
  },
  {
   "cell_type": "markdown",
   "id": "0ae28ecb",
   "metadata": {},
   "source": [
    "The Verbapie tool is meant to be used on TEI-XML Epidoc documents in Greek or Latin document to turn them into a coherent sql database that can be either interrogated or published online using the [verbatim](https://github.com/galenus-verbatim/verbatim) tool."
   ]
  },
  {
   "cell_type": "markdown",
   "id": "a4722782",
   "metadata": {},
   "source": [
    "For this example we will transform the Iliad and the Odyssey, using the [XML files](https://github.com/PerseusDL/canonical-greekLit/tree/master/data/tlg0012) published by the [Perseus project](http://www.perseus.tufts.edu/hopper/)."
   ]
  },
  {
   "cell_type": "markdown",
   "id": "64ffa830",
   "metadata": {},
   "source": [
    "## Path setup :"
   ]
  },
  {
   "cell_type": "code",
   "execution_count": 24,
   "id": "d877d827",
   "metadata": {},
   "outputs": [],
   "source": [
    "import os\n",
    "os.chdir('../verbapie')"
   ]
  },
  {
   "cell_type": "markdown",
   "id": "afbb6672",
   "metadata": {},
   "source": [
    "## turning the XML files into multiple HTML :"
   ]
  },
  {
   "cell_type": "markdown",
   "id": "c6f109e0",
   "metadata": {},
   "source": [
    "Indicate the path to your config file here: _../tests/homeros.tsv_. The config file is a tab separated value with a path to each XML you plan to turn into HTML files.\n",
    "\n",
    "Here our config files directs to two files the Iliad and the Odyssey -(lg012.tlg001.perseus-grc2.xml and tlg012.tlg002.perseus-grc2.xml). \n",
    "\n",
    "Verbapie can work on as many different files as you want if the path is correctly specified."
   ]
  },
  {
   "cell_type": "code",
   "execution_count": 23,
   "id": "e80f08e5",
   "metadata": {},
   "outputs": [
    {
     "name": "stdout",
     "output_type": "stream",
     "text": [
      "usage: split.py [-h] [-f] paths_file\n",
      "\n",
      "Process an XML/cts greek corpus to produce a folder of displayable HTML files\n",
      "\n",
      "positional arguments:\n",
      "  paths_file   ex: ../tests/galenus.txt\n",
      "               a file with a list of file/glob path of xml files to process, one per line:\n",
      "               ../../First1KGreek/data/tlg0052/*/tlg*.xml\n",
      "               ../../First1KGreek/data/tlg0057/*/tlg*.xml\n",
      "               (relative paths resolved from the file they come from)\n",
      "               will create a folder of same name.\n",
      "\n",
      "optional arguments:\n",
      "  -h, --help   show this help message and exit\n",
      "  -f, --force  force deletion of html_dir\n"
     ]
    }
   ],
   "source": [
    "%run split.py ../tests/galenus.tsv # you can see all the options of split.py by using %run split.py -h"
   ]
  },
  {
   "cell_type": "markdown",
   "id": "32fc5867",
   "metadata": {},
   "source": [
    "## Lematising each HTML files:"
   ]
  },
  {
   "cell_type": "markdown",
   "id": "54b5192e",
   "metadata": {},
   "source": [
    "Now that our files have been split into multiple html files we will lemmatize each of them.\n",
    "\n",
    "Indicate the path to the directory ../tests/_name of your HTML directory_.\n",
    "\n",
    "To save some time use this argument -t If you have a Nvidia GPU and torch and Cuda are enabled."
   ]
  },
  {
   "cell_type": "code",
   "execution_count": 22,
   "id": "fcbda093",
   "metadata": {},
   "outputs": [],
   "source": [
    "%run lemmatize.py -t ../tests/homerus"
   ]
  },
  {
   "cell_type": "markdown",
   "id": "acf82322",
   "metadata": {},
   "source": [
    "## Creating a SQL database ready to be published online :"
   ]
  },
  {
   "cell_type": "markdown",
   "id": "412a986a",
   "metadata": {},
   "source": [
    "This code takes all the previously created files and forms a SQl databse containing our html files and an index of word. You can see a description of the database [here](not done yet)"
   ]
  },
  {
   "cell_type": "code",
   "execution_count": 14,
   "id": "c1e42d87",
   "metadata": {},
   "outputs": [
    {
     "ename": "Exception",
     "evalue": "Json file not found:\"C:/Users/taaff/Documents/GitHub/verbapie/tests/homerus/tlg0012.tlg001.perseus-grc2\\tlg0012.tlg001.perseus-grc2.json\"\nRun cts.py and lemmatize.py before",
     "output_type": "error",
     "traceback": [
      "\u001b[1;31m---------------------------------------------------------------------------\u001b[0m",
      "\u001b[1;31mException\u001b[0m                                 Traceback (most recent call last)",
      "\u001b[1;32m~\\Documents\\GitHub\\verbapie\\verbapie\\sqlite.py\u001b[0m in \u001b[0;36m<module>\u001b[1;34m\u001b[0m\n\u001b[0;32m    297\u001b[0m \u001b[1;33m\u001b[0m\u001b[0m\n\u001b[0;32m    298\u001b[0m \u001b[1;32mif\u001b[0m \u001b[0m__name__\u001b[0m \u001b[1;33m==\u001b[0m \u001b[1;34m'__main__'\u001b[0m\u001b[1;33m:\u001b[0m\u001b[1;33m\u001b[0m\u001b[1;33m\u001b[0m\u001b[0m\n\u001b[1;32m--> 299\u001b[1;33m     \u001b[0msys\u001b[0m\u001b[1;33m.\u001b[0m\u001b[0mexit\u001b[0m\u001b[1;33m(\u001b[0m\u001b[0mmain\u001b[0m\u001b[1;33m(\u001b[0m\u001b[1;33m)\u001b[0m\u001b[1;33m)\u001b[0m\u001b[1;33m\u001b[0m\u001b[1;33m\u001b[0m\u001b[0m\n\u001b[0m",
      "\u001b[1;32m~\\Documents\\GitHub\\verbapie\\verbapie\\sqlite.py\u001b[0m in \u001b[0;36mmain\u001b[1;34m()\u001b[0m\n\u001b[0;32m    293\u001b[0m         help='an sqlite file destination to write in')\n\u001b[0;32m    294\u001b[0m     \u001b[0margs\u001b[0m \u001b[1;33m=\u001b[0m \u001b[0mparser\u001b[0m\u001b[1;33m.\u001b[0m\u001b[0mparse_args\u001b[0m\u001b[1;33m(\u001b[0m\u001b[1;33m)\u001b[0m\u001b[1;33m\u001b[0m\u001b[1;33m\u001b[0m\u001b[0m\n\u001b[1;32m--> 295\u001b[1;33m     \u001b[0mcrawl\u001b[0m\u001b[1;33m(\u001b[0m\u001b[0margs\u001b[0m\u001b[1;33m.\u001b[0m\u001b[0mcorpus_conf\u001b[0m\u001b[1;33m[\u001b[0m\u001b[1;36m0\u001b[0m\u001b[1;33m]\u001b[0m\u001b[1;33m,\u001b[0m \u001b[0margs\u001b[0m\u001b[1;33m.\u001b[0m\u001b[0msqlite_file\u001b[0m\u001b[1;33m)\u001b[0m\u001b[1;33m\u001b[0m\u001b[1;33m\u001b[0m\u001b[0m\n\u001b[0m\u001b[0;32m    296\u001b[0m     \u001b[1;32mreturn\u001b[0m \u001b[1;36m0\u001b[0m\u001b[1;33m\u001b[0m\u001b[1;33m\u001b[0m\u001b[0m\n\u001b[0;32m    297\u001b[0m \u001b[1;33m\u001b[0m\u001b[0m\n",
      "\u001b[1;32m~\\Documents\\GitHub\\verbapie\\verbapie\\sqlite.py\u001b[0m in \u001b[0;36mcrawl\u001b[1;34m(corpus_conf, sqlite_file)\u001b[0m\n\u001b[0;32m     57\u001b[0m         \u001b[0mjson_file\u001b[0m \u001b[1;33m=\u001b[0m \u001b[0mos\u001b[0m\u001b[1;33m.\u001b[0m\u001b[0mpath\u001b[0m\u001b[1;33m.\u001b[0m\u001b[0mjoin\u001b[0m\u001b[1;33m(\u001b[0m\u001b[0mhtml_dir\u001b[0m\u001b[1;33m,\u001b[0m \u001b[0mtei_name\u001b[0m\u001b[1;33m,\u001b[0m \u001b[0mtei_name\u001b[0m \u001b[1;33m+\u001b[0m \u001b[1;34m\".json\"\u001b[0m\u001b[1;33m)\u001b[0m\u001b[1;33m\u001b[0m\u001b[1;33m\u001b[0m\u001b[0m\n\u001b[0;32m     58\u001b[0m         \u001b[1;32mif\u001b[0m \u001b[1;32mnot\u001b[0m \u001b[0mos\u001b[0m\u001b[1;33m.\u001b[0m\u001b[0mpath\u001b[0m\u001b[1;33m.\u001b[0m\u001b[0misfile\u001b[0m\u001b[1;33m(\u001b[0m\u001b[0mjson_file\u001b[0m\u001b[1;33m)\u001b[0m\u001b[1;33m:\u001b[0m\u001b[1;33m\u001b[0m\u001b[1;33m\u001b[0m\u001b[0m\n\u001b[1;32m---> 59\u001b[1;33m             \u001b[1;32mraise\u001b[0m \u001b[0mException\u001b[0m\u001b[1;33m(\u001b[0m\u001b[1;34m\"Json file not found:\\\"\"\u001b[0m \u001b[1;33m+\u001b[0m \u001b[0mjson_file\u001b[0m \u001b[1;33m+\u001b[0m \u001b[1;34m\"\\\"\\nRun cts.py and lemmatize.py before\"\u001b[0m\u001b[1;33m)\u001b[0m\u001b[1;33m\u001b[0m\u001b[1;33m\u001b[0m\u001b[0m\n\u001b[0m\u001b[0;32m     60\u001b[0m         \u001b[0mjson_list\u001b[0m\u001b[1;33m.\u001b[0m\u001b[0mappend\u001b[0m\u001b[1;33m(\u001b[0m\u001b[0mjson_file\u001b[0m\u001b[1;33m)\u001b[0m\u001b[1;33m\u001b[0m\u001b[1;33m\u001b[0m\u001b[0m\n\u001b[0;32m     61\u001b[0m \u001b[1;33m\u001b[0m\u001b[0m\n",
      "\u001b[1;31mException\u001b[0m: Json file not found:\"C:/Users/taaff/Documents/GitHub/verbapie/tests/homerus/tlg0012.tlg001.perseus-grc2\\tlg0012.tlg001.perseus-grc2.json\"\nRun cts.py and lemmatize.py before"
     ]
    }
   ],
   "source": [
    "%run sqlite.py ../tests/homerus.tsv"
   ]
  }
 ],
 "metadata": {
  "kernelspec": {
   "display_name": "Python 3 (ipykernel)",
   "language": "python",
   "name": "python3"
  },
  "language_info": {
   "codemirror_mode": {
    "name": "ipython",
    "version": 3
   },
   "file_extension": ".py",
   "mimetype": "text/x-python",
   "name": "python",
   "nbconvert_exporter": "python",
   "pygments_lexer": "ipython3",
   "version": "3.9.7"
  }
 },
 "nbformat": 4,
 "nbformat_minor": 5
}
