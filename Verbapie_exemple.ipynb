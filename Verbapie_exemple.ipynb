{
 "cells": [
  {
   "cell_type": "markdown",
   "id": "199ebe97",
   "metadata": {},
   "source": [
    "# Exemple notebook on how to use the Verbapie tool:"
   ]
  },
  {
   "cell_type": "markdown",
   "id": "0ae28ecb",
   "metadata": {},
   "source": [
    "The Verbapie tool is meant to be used on TEI-XML Epidoc documents in Greek or Latin document to turn them into a coherent sql database that can be either interrogated or published online using the [verbatim](https://github.com/galenus-verbatim/verbatim) tool.\n",
    "\n",
    "To see more precise instrcution on how to install the different libraries and componenent of verbapie see the Readme file."
   ]
  },
  {
   "cell_type": "markdown",
   "id": "a4722782",
   "metadata": {},
   "source": [
    "For this example we will transform the Iliad and the Odyssey, using the [XML files](https://github.com/PerseusDL/canonical-greekLit/tree/master/data/tlg0012) published by the [Perseus project](http://www.perseus.tufts.edu/hopper/)."
   ]
  },
  {
   "cell_type": "markdown",
   "id": "64ffa830",
   "metadata": {},
   "source": [
    "## Path setup :"
   ]
  },
  {
   "cell_type": "code",
   "execution_count": null,
   "id": "2e2bcffd",
   "metadata": {},
   "outputs": [],
   "source": [
    "import os\n",
    "os.chdir('verbapie')"
   ]
  },
  {
   "cell_type": "markdown",
   "id": "afbb6672",
   "metadata": {},
   "source": [
    "## turning the XML files into multiple HTML :"
   ]
  },
  {
   "cell_type": "markdown",
   "id": "c6f109e0",
   "metadata": {},
   "source": [
    "Indicate the path to your config file here: _../tests/homeros.tsv_. The config file is a tab separated value with a path to each XML you plan to turn into HTML files.\n",
    "\n",
    "Here our config files directs to two files the Iliad and the Odyssey -(tlg012.tlg001.perseus-grc2.xml and tlg012.tlg002.perseus-grc2.xml). \n",
    "\n",
    "Verbapie can work on as many different files as you want if the path is correctly specified.\n",
    "(you can see all the options of split.py by using %run split.py -h)"
   ]
  },
  {
   "cell_type": "code",
   "execution_count": null,
   "id": "d8169fc7",
   "metadata": {},
   "outputs": [],
   "source": [
    "%run split.py -f ../tests/homerus.tsv"
   ]
  },
  {
   "cell_type": "markdown",
   "id": "32fc5867",
   "metadata": {},
   "source": [
    "## Lemmatising each HTML files:"
   ]
  },
  {
   "cell_type": "markdown",
   "id": "54b5192e",
   "metadata": {},
   "source": [
    "Now that our files have been split into multiple html files we will lemmatize each of them.\n",
    "\n",
    "Indicate the path to the directory ../tests/_name of your HTML directory_.\n",
    "\n",
    "To save some time use this argument -t If you have a Nvidia GPU and torch and Cuda are enabled."
   ]
  },
  {
   "cell_type": "code",
   "execution_count": null,
   "id": "fcbda093",
   "metadata": {},
   "outputs": [],
   "source": [
    "%run lemmatize.py ../tests/homerus"
   ]
  },
  {
   "cell_type": "markdown",
   "id": "acf82322",
   "metadata": {},
   "source": [
    "## Creating a SQL database ready to be published online :"
   ]
  },
  {
   "cell_type": "markdown",
   "id": "412a986a",
   "metadata": {},
   "source": [
    "This code takes all the previously created files and forms a SQl databse containing our html files and an index of word. You can see a description of the database [here](not done yet)"
   ]
  },
  {
   "cell_type": "code",
   "execution_count": null,
   "id": "8f2d9a42",
   "metadata": {},
   "outputs": [],
   "source": [
    "%run sqlite.py ../tests/homerus.tsv"
   ]
  }
 ],
 "metadata": {
  "kernelspec": {
   "display_name": "Python 3 (ipykernel)",
   "language": "python",
   "name": "python3"
  },
  "language_info": {
   "codemirror_mode": {
    "name": "ipython",
    "version": 3
   },
   "file_extension": ".py",
   "mimetype": "text/x-python",
   "name": "python",
   "nbconvert_exporter": "python",
   "pygments_lexer": "ipython3",
   "version": "3.9.13"
  }
 },
 "nbformat": 4,
 "nbformat_minor": 5
}
